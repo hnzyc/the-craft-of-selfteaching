{
 "cells": [
  {
   "cell_type": "code",
   "execution_count": 15,
   "metadata": {},
   "outputs": [
    {
     "name": "stdout",
     "output_type": "stream",
     "text": [
      "C:\\myfolder\\name\n",
      "\n",
      "Usage: thingy [OPTIONS]\n",
      "     -h                        Display this usage message\n",
      "     -H hostname               Hostname to connect to\n",
      "\n"
     ]
    }
   ],
   "source": [
    "from IPython.core.interactiveshell import InteractiveShell\n",
    "InteractiveShell.ast_node_interactivity = \"all\"\n",
    "\n",
    "print(r'C:\\myfolder\\name')\n",
    "print(\"\"\"\n",
    "Usage: thingy [OPTIONS]\n",
    "     -h                        Display this usage message\n",
    "     -H hostname               Hostname to connect to\n",
    "\"\"\")\n"
   ]
  },
  {
   "cell_type": "code",
   "execution_count": 21,
   "metadata": {},
   "outputs": [
    {
     "data": {
      "text/plain": [
       "'umumumumumer'"
      ]
     },
     "execution_count": 21,
     "metadata": {},
     "output_type": "execute_result"
    }
   ],
   "source": [
    "5*'um'+'er'"
   ]
  },
  {
   "cell_type": "code",
   "execution_count": 26,
   "metadata": {},
   "outputs": [
    {
     "data": {
      "text/plain": [
       "3"
      ]
     },
     "execution_count": 26,
     "metadata": {},
     "output_type": "execute_result"
    }
   ],
   "source": [
    "s = 'sxp'\n",
    "len(s)"
   ]
  },
  {
   "cell_type": "code",
   "execution_count": null,
   "metadata": {},
   "outputs": [],
   "source": [
    "import os\n",
    "os.getcwd()\n",
    "dir(os)\n"
   ]
  },
  {
   "cell_type": "code",
   "execution_count": null,
   "metadata": {},
   "outputs": [],
   "source": [
    "import shutil\n",
    "help(shutil)\n"
   ]
  },
  {
   "cell_type": "code",
   "execution_count": 72,
   "metadata": {},
   "outputs": [
    {
     "name": "stdout",
     "output_type": "stream",
     "text": [
      "\n",
      "This is an object-oriented plotting library.\n",
      "\n",
      "A procedural interface is provided by the companion pyplot module,\n",
      "which may be imported directly, e.g.::\n",
      "\n",
      "    import matplotlib.pyplot as plt\n",
      "\n",
      "or using ipython::\n",
      "\n",
      "    ipython\n",
      "\n",
      "at your terminal, followed by::\n",
      "\n",
      "    In [1]: %matplotlib\n",
      "    In [2]: import matplotlib.pyplot as plt\n",
      "\n",
      "at the ipython shell prompt.\n",
      "\n",
      "For the most part, direct use of the object-oriented library is\n",
      "encouraged when programming; pyplot is primarily for working\n",
      "interactively.  The\n",
      "exceptions are the pyplot commands :func:`~matplotlib.pyplot.figure`,\n",
      ":func:`~matplotlib.pyplot.subplot`,\n",
      ":func:`~matplotlib.pyplot.subplots`, and\n",
      ":func:`~pyplot.savefig`, which can greatly simplify scripting.\n",
      "\n",
      "Modules include:\n",
      "\n",
      "    :mod:`matplotlib.axes`\n",
      "        defines the :class:`~matplotlib.axes.Axes` class.  Most pyplot\n",
      "        commands are wrappers for :class:`~matplotlib.axes.Axes`\n",
      "        methods.  The axes module is the highest level of OO access to\n",
      "        the library.\n",
      "\n",
      "    :mod:`matplotlib.figure`\n",
      "        defines the :class:`~matplotlib.figure.Figure` class.\n",
      "\n",
      "    :mod:`matplotlib.artist`\n",
      "        defines the :class:`~matplotlib.artist.Artist` base class for\n",
      "        all classes that draw things.\n",
      "\n",
      "    :mod:`matplotlib.lines`\n",
      "        defines the :class:`~matplotlib.lines.Line2D` class for\n",
      "        drawing lines and markers\n",
      "\n",
      "    :mod:`matplotlib.patches`\n",
      "        defines classes for drawing polygons\n",
      "\n",
      "    :mod:`matplotlib.text`\n",
      "        defines the :class:`~matplotlib.text.Text`,\n",
      "        :class:`~matplotlib.text.TextWithDash`, and\n",
      "        :class:`~matplotlib.text.Annotate` classes\n",
      "\n",
      "    :mod:`matplotlib.image`\n",
      "        defines the :class:`~matplotlib.image.AxesImage` and\n",
      "        :class:`~matplotlib.image.FigureImage` classes\n",
      "\n",
      "    :mod:`matplotlib.collections`\n",
      "        classes for efficient drawing of groups of lines or polygons\n",
      "\n",
      "    :mod:`matplotlib.colors`\n",
      "        classes for interpreting color specifications and for making\n",
      "        colormaps\n",
      "\n",
      "    :mod:`matplotlib.cm`\n",
      "        colormaps and the :class:`~matplotlib.image.ScalarMappable`\n",
      "        mixin class for providing color mapping functionality to other\n",
      "        classes\n",
      "\n",
      "    :mod:`matplotlib.ticker`\n",
      "        classes for calculating tick mark locations and for formatting\n",
      "        tick labels\n",
      "\n",
      "    :mod:`matplotlib.backends`\n",
      "        a subpackage with modules for various gui libraries and output\n",
      "        formats\n",
      "\n",
      "The base matplotlib namespace includes:\n",
      "\n",
      "    :data:`~matplotlib.rcParams`\n",
      "        a global dictionary of default configuration settings.  It is\n",
      "        initialized by code which may be overridden by a matplotlibrc\n",
      "        file.\n",
      "\n",
      "    :func:`~matplotlib.rc`\n",
      "        a function for setting groups of rcParams values\n",
      "\n",
      "    :func:`~matplotlib.use`\n",
      "        a function for setting the matplotlib backend.  If used, this\n",
      "        function must be called immediately after importing matplotlib\n",
      "        for the first time.  In particular, it must be called\n",
      "        **before** importing pyplot (if pyplot is imported).\n",
      "\n",
      "matplotlib was initially written by John D. Hunter (1968-2012) and is now\n",
      "developed and maintained by a host of others.\n",
      "\n",
      "Occasionally the internal documentation (python docstrings) will refer\n",
      "to MATLAB&reg;, a registered trademark of The MathWorks, Inc.\n",
      "\n",
      "\n"
     ]
    }
   ],
   "source": [
    "import matplotlib\n",
    "print(matplotlib.__doc__)"
   ]
  },
  {
   "cell_type": "code",
   "execution_count": 49,
   "metadata": {},
   "outputs": [
    {
     "data": {
      "text/plain": [
       "_StoreAction(option_strings=[], dest='filenames', nargs='+', const=None, default=None, type=None, choices=None, help=None, metavar=None)"
      ]
     },
     "execution_count": 49,
     "metadata": {},
     "output_type": "execute_result"
    },
    {
     "data": {
      "text/plain": [
       "_StoreAction(option_strings=['-l', '--lines'], dest='lines', nargs=None, const=None, default=10, type=<class 'int'>, choices=None, help=None, metavar=None)"
      ]
     },
     "execution_count": 49,
     "metadata": {},
     "output_type": "execute_result"
    },
    {
     "name": "stderr",
     "output_type": "stream",
     "text": [
      "usage: top [-h] [-l LINES] filenames [filenames ...]\n",
      "top: error: unrecognized arguments: -f\n"
     ]
    },
    {
     "ename": "SystemExit",
     "evalue": "2",
     "output_type": "error",
     "traceback": [
      "An exception has occurred, use %tb to see the full traceback.\n",
      "\u001b[1;31mSystemExit\u001b[0m\u001b[1;31m:\u001b[0m 2\n"
     ]
    }
   ],
   "source": [
    "import argparse\n",
    "\n",
    "parser = argparse.ArgumentParser(prog = 'top',\n",
    "    description = 'Show top lines from each file')\n",
    "parser.add_argument('filenames', nargs='+')\n",
    "parser.add_argument('-l', '--lines', type=int, default=10)\n",
    "args = parser.parse_args()\n"
   ]
  },
  {
   "cell_type": "code",
   "execution_count": 52,
   "metadata": {},
   "outputs": [
    {
     "data": {
      "text/plain": [
       "['foot', 'fell', 'fastest']"
      ]
     },
     "execution_count": 52,
     "metadata": {},
     "output_type": "execute_result"
    },
    {
     "data": {
      "text/plain": [
       "'cat in the hat'"
      ]
     },
     "execution_count": 52,
     "metadata": {},
     "output_type": "execute_result"
    },
    {
     "data": {
      "text/plain": [
       "'which feet or hand fell fastest'"
      ]
     },
     "execution_count": 52,
     "metadata": {},
     "output_type": "execute_result"
    }
   ],
   "source": [
    "import re\n",
    "re.findall(r'\\bf[a-z]*', 'which foot or hand fell fastest')\n",
    "re.sub(r'(\\b[a-z]+) \\1', r'\\1', 'cat in the the hat')\n",
    "str = 'which foot or hand fell fastest'\n",
    "str.replace('foot', 'feet'b)"
   ]
  },
  {
   "cell_type": "code",
   "execution_count": 62,
   "metadata": {},
   "outputs": [
    {
     "data": {
      "text/plain": [
       "14469"
      ]
     },
     "execution_count": 62,
     "metadata": {},
     "output_type": "execute_result"
    }
   ],
   "source": [
    "from datetime import date\n",
    "\n",
    "now = date.today()\n",
    "birthday = date(1980, 6, 15)\n",
    "age =now - birthday\n",
    "age.days"
   ]
  },
  {
   "cell_type": "code",
   "execution_count": 70,
   "metadata": {},
   "outputs": [
    {
     "data": {
      "text/plain": [
       "\"{'a', 'f', 'i', 's'}\""
      ]
     },
     "execution_count": 70,
     "metadata": {},
     "output_type": "execute_result"
    }
   ],
   "source": [
    "import reprlib\n",
    "reprlib.repr(set('sfai'))"
   ]
  }
 ],
 "metadata": {
  "kernelspec": {
   "display_name": "Python 3",
   "language": "python",
   "name": "python3"
  },
  "language_info": {
   "codemirror_mode": {
    "name": "ipython",
    "version": 3
   },
   "file_extension": ".py",
   "mimetype": "text/x-python",
   "name": "python",
   "nbconvert_exporter": "python",
   "pygments_lexer": "ipython3",
   "version": "3.7.4"
  }
 },
 "nbformat": 4,
 "nbformat_minor": 4
}
