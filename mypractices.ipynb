{
 "cells": [
  {
   "cell_type": "code",
   "execution_count": 1,
   "metadata": {},
   "outputs": [
    {
     "data": {
      "text/plain": [
       "[2, 3, 4, 5, 6, 7, 8, 9]"
      ]
     },
     "execution_count": 1,
     "metadata": {},
     "output_type": "execute_result"
    }
   ],
   "source": [
    "from IPython.core.interactiveshell import InteractiveShell\n",
    "InteractiveShell.ast_node_interactivity = \"all\"\n",
    "list(range(2,10))"
   ]
  },
  {
   "cell_type": "code",
   "execution_count": 14,
   "metadata": {},
   "outputs": [
    {
     "data": {
      "text/plain": [
       "[2, 3, 3, 113]"
      ]
     },
     "execution_count": 14,
     "metadata": {},
     "output_type": "execute_result"
    }
   ],
   "source": [
    "from IPython.core.interactiveshell import InteractiveShell\n",
    "InteractiveShell.ast_node_interactivity = \"all\"\n",
    "\n",
    "factors = []\n",
    "n = 2034\n",
    "i = 2\n",
    "while i * i <= n: #今天早上在stack flow上学习代码，终于搞定了\n",
    "    while n % i == 0: #主要是使用了while循环，在每次求余完成后，抽取商\n",
    "        factors.append(i)# 模拟的是短除的过程\n",
    "        n = n // i#然后对n重新赋值，当不满足最小2的时候，i+1进行测试\n",
    "    i += 1 #当全部都不满足的时候\n",
    "factors.append(n)#最后一个n值就是最大的质因数，加入列表，完成全部质因数的提取\n",
    "#昨天一直想不通的是如何在进行一次求余计算后，给n重新赋值继续求余，i的初始值为2，之后逐渐加1\n",
    "#因为for循环是自动遍历的，所以无法做到自由赋值，今天使用while循环，终于实现了这个功能\n",
    "#接下来的问题：如何把factors列表中的元素逐一表述为2034 = 2 * 3* 3* 113的形式\n",
    "list(factors)"
   ]
  }
 ],
 "metadata": {
  "kernelspec": {
   "display_name": "Python 3",
   "language": "python",
   "name": "python3"
  },
  "language_info": {
   "codemirror_mode": {
    "name": "ipython",
    "version": 3
   },
   "file_extension": ".py",
   "mimetype": "text/x-python",
   "name": "python",
   "nbconvert_exporter": "python",
   "pygments_lexer": "ipython3",
   "version": "3.7.4"
  }
 },
 "nbformat": 4,
 "nbformat_minor": 4
}
