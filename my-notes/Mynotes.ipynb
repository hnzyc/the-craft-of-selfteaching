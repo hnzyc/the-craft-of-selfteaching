{
 "cells": [
  {
   "cell_type": "markdown",
   "metadata": {},
   "source": [
    "针对文件操作，Python 有个另外的语句块写法，更便于阅读：\n",
    "\n",
    "```python\n",
    "with open(...) as f:\n",
    "    f.write(...)\n",
    "    ...\n",
    "```"
   ]
  },
  {
   "cell_type": "markdown",
   "metadata": {},
   "source": [
    "这是一个针对文件操作的代码框架，因为在折腾VBA的时候，从excelhome论坛上借用过牛人的代码框架，知道这段话的重要性，特此标记。"
   ]
  },
  {
   "cell_type": "markdown",
   "metadata": {},
   "source": [
    "另外，用 with 语句块的另外一个附加好处就是不用写 file.close() 了……\n",
    "\n",
    "完整的程序代码：\n",
    "```python\n",
    "import os\n",
    "\n",
    "with open('/tmp/test-file.txt', 'w') as f:\n",
    "    f.write('first line\\nsecond line\\nthird line\\n')\n",
    "    \n",
    "with open('/tmp/test-file.txt', 'r') as f:\n",
    "    for line in f.readlines():\n",
    "        print(line)\n",
    "\n",
    "if os.path.exists(f.name):\n",
    "    os.remove(f.name)\n",
    "    print(f'{f.name} deleted.')\n",
    "else:\n",
    "    print(f'{f.name} does not exist.')    \n",
    "```"
   ]
  },
  {
   "cell_type": "markdown",
   "metadata": {},
   "source": [
    "Part.1.E.7.files.ipyb文末最后，从需求到具体实现，编程过程中遇到问题改进的模拟过程，好好品味下，对编程有极大的好处！！"
   ]
  },
  {
   "cell_type": "markdown",
   "metadata": {},
   "source": [
    ">**读不懂也要读完，然后重复很多遍。**"
   ]
  },
  {
   "cell_type": "markdown",
   "metadata": {},
   "source": [
    "有经验的读书者，拿来一本书开始自学技能的时候，他会先翻翻目录（Table Of Contents），看看其中有没有自己完全没有接触过的概念；然后再翻翻术语表（Glossary），看看是否可以尽量理解；而后会看看索引（Index），根据页码提示，直接翻到相关页面进一步查找…… 在通读书籍之前，还会看看书后的参考文献（References），看看此书都引用了哪些大牛的书籍，弄不好会顺手多买几本。\n",
    "\n",
    "这样做，显然是老到 —— 这么做的最大好处是 “尽力消解了大量的过早引用”，为自己减少了极大的理解负担。\n",
    "\n",
    "所以，第一遍的正经手段是 “**囫囵吞枣**地读完”。\n",
    "\n",
    "囫囵吞枣从一开始就是贬义词。但在当前这个特殊的情况下，它是最好的策略。那些只习惯于一上来就仔细认真的人，在这里很吃亏，因为他们越是仔细认真，越是容易被各种过早引用搞得灰心丧气；相应地，他们的挫败感积累得越快；到最后弄不好最先放弃的是他们 —— 失败的原因竟然是因为 “太仔细了”……\n",
    "\n",
    "第一遍囫囵吞枣，用个正面一点的描述，就是 “*为探索未知领域先画个潦草的地图*”。地图这东西，有总比没有好；虽然说它最好精确，但即便是 “不精确的地图” 也比 “完全没地图” 好一万倍，对吧？更何况，这地图总是可以不断校正的，不是吗？世界上哪个地图不是一点一点校正过来才变成今天这般精确的呢？"
   ]
  },
  {
   "cell_type": "markdown",
   "metadata": {},
   "source": [
    ">提高对有效知识的记忆力还有另外一个简单实用的方法 —— 而市面上有各种 “快速记忆法”，通常相对于这个方法来看用处并不大。\n",
    ">\n",
    ">这个方法就是以下要讲到的 “整理归纳总结” —— 反复做整理归纳总结，记不住才怪呢！\n",
    "\n",
    "回头一定让儿子**一字不差**地记住数学公式、英语课文、语文生字词，学会画思维导图"
   ]
  },
  {
   "cell_type": "markdown",
   "metadata": {},
   "source": [
    "笑来老师的书真是包罗万象啊，这有涉及到**预算**了，事实上，我也是刚刚认真做理财的过程，才认真开始做预算的，而且惭愧的是，执行了几个月，现在又没有执行了，暴汗。\n",
    ">预算观念非常重要 —— 这个观念的存在与否，成熟与否，基本上决定一个人未来的盈利能力。\n",
    ">大多数人对此不仅不成熟，甚至干脆没有预算观念！—— 这也是为什么绝大多数人不适合创业的最根本原因。\n",
    ">不夸张地讲，未来的你只需要恪守一个原则，就很可能会因此超越 99% 的人：\n",
    ">绝对不做预算不够的事情。"
   ]
  },
  {
   "cell_type": "code",
   "execution_count": null,
   "metadata": {},
   "outputs": [],
   "source": []
  }
 ],
 "metadata": {
  "kernelspec": {
   "display_name": "Python 3",
   "language": "python",
   "name": "python3"
  },
  "language_info": {
   "codemirror_mode": {
    "name": "ipython",
    "version": 3
   },
   "file_extension": ".py",
   "mimetype": "text/x-python",
   "name": "python",
   "nbconvert_exporter": "python",
   "pygments_lexer": "ipython3",
   "version": "3.7.4"
  }
 },
 "nbformat": 4,
 "nbformat_minor": 4
}
