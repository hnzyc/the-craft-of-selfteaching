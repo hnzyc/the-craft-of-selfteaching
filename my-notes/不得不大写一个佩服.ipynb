{
 "cells": [
  {
   "cell_type": "markdown",
   "metadata": {},
   "source": [
    "读李笑来老师的书，真有种醍醐灌顶的感觉，以前一章节一章节，从数据类型到数组、字典，函数……感觉那么多的内容，李笑来老师一个章节就完全搞定了。最后还来个更加简洁的总结：\n",
    ">接下来你要学习的无非是各种数据类型的运算而已。\n",
    "\n",
    "敬佩之情，无以言表！！"
   ]
  },
  {
   "cell_type": "markdown",
   "metadata": {},
   "source": [
    "关于流程控制，无非**分支**与**循环**"
   ]
  },
  {
   "cell_type": "markdown",
   "metadata": {},
   "source": [
    "有控制流，才能算得上是程序。\n",
    "\n",
    ">* 只处理一种情况，用 if ...\n",
    ">* 处理 True/False 两种情况，用 if ... else ...\n",
    ">* 处理多种情况，用 if ... elif ... elif ... else ...\n",
    ">* 迭代有序数据类型，用 for ... in ...，如果需要处理没有 break 发生的情况，用 for ... else ...\n",
    ">* 其它循环，用 while ...\n",
    ">* 与循环相关的语句还有 continue、break、pass\n",
    ">* 函数从控制流角度去看其实就是子程序"
   ]
  },
  {
   "cell_type": "markdown",
   "metadata": {},
   "source": [
    "所谓的函数，无非就是搞清楚：\n",
    "1. 如何输入\n",
    "2. 输出是什么\n",
    "\n",
    "仅此而已，就好像我们使用灯泡，只知道如何使用开关即可，我们写程序，也无非就是使用其他人已经编辑好的函数，来实现自己想要的功能罢了\n"
   ]
  },
  {
   "cell_type": "markdown",
   "metadata": {},
   "source": []
  }
 ],
 "metadata": {
  "kernelspec": {
   "display_name": "Python 3",
   "language": "python",
   "name": "python3"
  },
  "language_info": {
   "codemirror_mode": {
    "name": "ipython",
    "version": 3
   },
   "file_extension": ".py",
   "mimetype": "text/x-python",
   "name": "python",
   "nbconvert_exporter": "python",
   "pygments_lexer": "ipython3",
   "version": "3.7.4"
  }
 },
 "nbformat": 4,
 "nbformat_minor": 4
}
